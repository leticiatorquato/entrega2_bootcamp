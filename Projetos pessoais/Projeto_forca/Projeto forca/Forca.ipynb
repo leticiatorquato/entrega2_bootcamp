{
  "nbformat": 4,
  "nbformat_minor": 0,
  "metadata": {
    "colab": {
      "provenance": []
    },
    "kernelspec": {
      "name": "python3",
      "display_name": "Python 3"
    },
    "language_info": {
      "name": "python"
    }
  },
  "cells": [
    {
      "cell_type": "code",
      "source": [
        "import random\n",
        "from os import system, name\n",
        "\n",
        "def limpa_tela():\n",
        "\n",
        "    #Windows\n",
        "    if name=='nt':\n",
        "        _=system('cls')\n",
        "\n",
        "    # Mac ou Linux\n",
        "    else:\n",
        "        _=system('clear')\n",
        "\n",
        "def forca():\n",
        "\n",
        "  limpa_tela()\n",
        "\n",
        "  print(\"Bem-vindo(a) ao jogo da forca\")\n",
        "  print(\"Adivinhe a palavra abaixo:\")\n",
        "\n",
        "  lista_palavras=['banana', 'uva', 'melancia', 'morango', 'pera']\n",
        "\n",
        "  letras_erradas=[]\n",
        "\n",
        "  palavra=random.choice(lista_palavras)\n",
        "\n",
        "  letras_descobertas=[ '_' for letra in palavra]\n",
        "\n",
        "  chances=6\n",
        "\n",
        "  while chances>0:\n",
        "    print(\" \".join(letras_descobertas))\n",
        "    print(\" Chances restantes:\", chances)\n",
        "    print(\"Letras erradas:\",\" \".join(letras_erradas))\n",
        "\n",
        "    tentativa=input(\"Digite uma letra: \").lower()\n",
        "\n",
        "    if tentativa in palavra:\n",
        "      index=0\n",
        "\n",
        "      for letra in palavra:\n",
        "        if tentativa==letra:\n",
        "          letras_descobertas[index]=letra\n",
        "        index+=1\n",
        "\n",
        "    else:\n",
        "        chances-=1\n",
        "        letras_erradas.append(tentativa)\n",
        "\n",
        "    if \"_\" not in letras_descobertas:\n",
        "            print(\"\\nVocê venceu, a palavra era:\", palavra)\n",
        "            break\n",
        "\n",
        "\n",
        "  if \"_\" in letras_descobertas:\n",
        "        print(\"\\nVocê perdeu, a palavra era:\", palavra)\n",
        "\n",
        "\n",
        "\n",
        "if __name__==\"__main__\":\n",
        "    forca()"
      ],
      "metadata": {
        "colab": {
          "base_uri": "https://localhost:8080/"
        },
        "id": "_Ck1r8ioHd-P",
        "outputId": "b97bc9d1-67c6-49de-9023-dc81daae6732"
      },
      "execution_count": null,
      "outputs": [
        {
          "output_type": "stream",
          "name": "stdout",
          "text": [
            "Bem-vindo(a) ao jogo da forca\n",
            "Adivinhe a palavra abaixo:\n",
            "_ _ _ _ _ _ _\n",
            " Chances restantes: 6\n",
            "Letras erradas: \n",
            "Digite uma letra: b\n",
            "_ _ _ _ _ _ _\n",
            " Chances restantes: 5\n",
            "Letras erradas: b\n",
            "Digite uma letra: a\n",
            "_ _ _ a _ _ _\n",
            " Chances restantes: 5\n",
            "Letras erradas: b\n",
            "Digite uma letra: m\n",
            "m _ _ a _ _ _\n",
            " Chances restantes: 5\n",
            "Letras erradas: b\n",
            "Digite uma letra: o\n",
            "m o _ a _ _ o\n",
            " Chances restantes: 5\n",
            "Letras erradas: b\n",
            "Digite uma letra: r\n",
            "m o r a _ _ o\n",
            " Chances restantes: 5\n",
            "Letras erradas: b\n",
            "Digite uma letra: l\n",
            "m o r a _ _ o\n",
            " Chances restantes: 4\n",
            "Letras erradas: b l\n",
            "Digite uma letra: n\n",
            "m o r a n _ o\n",
            " Chances restantes: 4\n",
            "Letras erradas: b l\n",
            "Digite uma letra: g\n",
            "\n",
            "Você venceu, a palavra era: morango\n"
          ]
        }
      ]
    }
  ]
}