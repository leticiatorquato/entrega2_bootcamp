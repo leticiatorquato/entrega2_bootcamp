{
  "nbformat": 4,
  "nbformat_minor": 0,
  "metadata": {
    "colab": {
      "provenance": []
    },
    "kernelspec": {
      "name": "python3",
      "display_name": "Python 3"
    },
    "language_info": {
      "name": "python"
    }
  },
  "cells": [
    {
      "cell_type": "code",
      "execution_count": null,
      "metadata": {
        "colab": {
          "base_uri": "https://localhost:8080/"
        },
        "id": "LCpHkOTTvNC8",
        "outputId": "8e9c5372-cbd5-4559-9990-209493ce37fb"
      },
      "outputs": [
        {
          "output_type": "stream",
          "name": "stdout",
          "text": [
            "Calculadora em Python\n",
            "\n",
            "\n",
            "Escolha o número da opção desejada\n",
            " \n",
            " 1- Soma \n",
            " 2- Subtração \n",
            " 3- Multiplicação \n",
            " 4- Divisão\n",
            "\n",
            "Digite a opção 1\n",
            "digite o primeiro número 2\n",
            "digite o segundo número 3\n",
            "O resultado é:  5\n",
            "CPU times: user 30.7 ms, sys: 7.01 ms, total: 37.7 ms\n",
            "Wall time: 4.53 s\n"
          ]
        }
      ],
      "source": [
        "%%time\n",
        "print(\"Calculadora em Python\\n\")\n",
        "\n",
        "def add(x,y):\n",
        "  return x+y\n",
        "def sub(x,y):\n",
        "  return x-y\n",
        "def mult(x,y):\n",
        "  return x*y\n",
        "def div(x,y):\n",
        "  return x/y\n",
        "\n",
        "print(\"\\nEscolha o número da opção desejada\\n \\n 1- Soma \\n 2- Subtração \\n 3- Multiplicação \\n 4- Divisão\\n\")\n",
        "\n",
        "operacao=(input(\"Digite a opção \"))\n",
        "\n",
        "num1=int(input(\"digite o primeiro número \"))\n",
        "num2=int(input(\"digite o segundo número \"))\n",
        "\n",
        "if operacao==\"1\":\n",
        "  print(\"O resultado é: \", add(num1, num2))\n",
        "\n",
        "elif operacao==\"2\":\n",
        "  print(\"O resultado é: \", sub(num1, num2))\n",
        "\n",
        "elif operacao==\"3\":\n",
        "  print(\"O resultado é: \", mult(num1, num2))\n",
        "\n",
        "elif operacao==\"4\":\n",
        "  print(\"O resultado é: \", div(num1, num2))\n",
        "\n",
        "else:\n",
        "  print(\"operação inválida\")"
      ]
    }
  ]
}